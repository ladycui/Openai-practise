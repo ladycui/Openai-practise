{
 "cells": [
  {
   "cell_type": "markdown",
   "metadata": {},
   "source": [
    "# fucntion calling\n",
    "## basic knowledge\n",
    "\n",
    "![function-calling flow chart](./imgs/flow-chart.svg)\n",
    "\n",
    "| Step | Executor   | Key Action                     | Data Format Example                                           |\n",
    "| :--- | :--------- | :----------------------------- | :------------------------------------------------------------ |\n",
    "| 1    | Application | Send user input + function definitions | `{\"messages\":[...], \"functions\":[...]}`                      |\n",
    "| 2    | Large Model | Decide response method         | Generate `tool_calls` or respond directly                     |\n",
    "| 3    | Large Model | Return function call           | `{\"tool_calls\": [{\"name\": \"func\", \"arguments\": {...}}]}`     |\n",
    "| 4    | Application | Execute local function         | Parse arguments and invoke `func(**args)`                    |\n",
    "| 5    | Application | Submit execution result        | `{\"tool_call_id\": \"...\", \"role\": \"tool\", \"content\": \"result\"}` |\n",
    "\n",
    "Chinese vesion:\n",
    "| 步骤 | 执行方 | 关键动作              | 数据格式示例                                                 |\n",
    "| :--- | :----- | :-------------------- | :----------------------------------------------------------- |\n",
    "| 1    | 应用   | 发送用户输入+函数定义 | `{\"messages\":[...], \"functions\":[...]}`                      |\n",
    "| 2    | 大模型 | 决策响应方式          | 生成`tool_calls`或 直接回答                                   |\n",
    "| 3    | 大模型 | 返回函数调用          | `{\"tool_calls\": [{\"name\": \"func\", \"arguments\": {...}}]}`     |\n",
    "| 4    | 应用   | 执行本地函数          | 解析参数并调用`func(**args)`                                 |\n",
    "| 5    | 应用   | 提交执行结果          | `{\"tool_call_id\": \"...\", \"role\": \"tool\", \"content\": \"result\"}` |\n",
    "\n",
    "step 5 is optional\n",
    "\n",
    "addional flowchart to understand it better\n",
    "\n",
    " <img src=\"./imgs/flow-chart2.svg\" alt=\"Flow Chart\" width=\"400\" />"
   ]
  },
  {
   "cell_type": "markdown",
   "metadata": {},
   "source": [
    "## basic usage"
   ]
  },
  {
   "cell_type": "code",
   "execution_count": 1,
   "metadata": {},
   "outputs": [
    {
     "data": {
      "text/plain": [
       "True"
      ]
     },
     "execution_count": 1,
     "metadata": {},
     "output_type": "execute_result"
    }
   ],
   "source": [
    "from dotenv import load_dotenv\n",
    "load_dotenv()"
   ]
  },
  {
   "cell_type": "code",
   "execution_count": null,
   "metadata": {},
   "outputs": [],
   "source": [
    "def get_weather(location):\n",
    "    return \"24℃\"\n",
    "\n",
    "\n",
    "available_functions = {\"get_weather\": get_weather}"
   ]
  },
  {
   "cell_type": "code",
   "execution_count": null,
   "metadata": {},
   "outputs": [],
   "source": [
    "from openai import OpenAI\n",
    "\n",
    "\n",
    "def send_messages(messages):\n",
    "    response = client.chat.completions.create(\n",
    "        model=\"deepseek-chat\",\n",
    "        messages=messages,\n",
    "        tools=tools\n",
    "    )\n",
    "    return response.choices[0].message\n",
    "\n",
    "\n",
    "client = OpenAI()\n",
    "\n",
    "tools = [\n",
    "    {\n",
    "        \"type\": \"function\",\n",
    "        \"function\": {\n",
    "            \"name\": \"get_weather\",\n",
    "            \"description\": \"Get weather of an location, the user shoud supply a location first\",\n",
    "            \"parameters\": {\n",
    "                \"type\": \"object\",\n",
    "                \"properties\": {\n",
    "                    \"location\": {\n",
    "                        \"type\": \"string\",\n",
    "                        \"description\": \"The city and state, e.g. San Francisco, CA\",\n",
    "                    }\n",
    "                },\n",
    "                \"required\": [\"location\"]\n",
    "            },\n",
    "        }\n",
    "    },\n",
    "]"
   ]
  },
  {
   "cell_type": "code",
   "execution_count": null,
   "metadata": {},
   "outputs": [
    {
     "name": "stdout",
     "output_type": "stream",
     "text": [
      "User>\t How's the weather in Hangzhou?\n",
      "model response with tool_to_call: ChatCompletionMessage(content='', refusal=None, role='assistant', annotations=None, audio=None, function_call=None, tool_calls=[ChatCompletionMessageToolCall(id='call_0_47c3cbc2-1a7d-444f-9f86-a367822ce9ae', function=Function(arguments='{\"location\":\"Hangzhou\"}', name='get_weather'), type='function', index=0)])\n"
     ]
    }
   ],
   "source": [
    "messages = [{\"role\": \"user\", \"content\": \"How's the weather in Hangzhou?\"}]\n",
    "message = send_messages(messages)\n",
    "messages.append(message)\n",
    "print(f\"User>\\t {messages[0]['content']}\")\n",
    "print(f\"model response with tool_to_call\\n: {message}\")\n",
    "\n",
    "tool = message.tool_calls[0]"
   ]
  },
  {
   "cell_type": "markdown",
   "metadata": {},
   "source": [
    "观察上面打印的LLM结果，其中`content`为空，`tool_calls`不空，表示LLM告诉我们下一步需要调用对应的tools。相反，如果LLM返回的是直接结果，则content不空，tool_calls为空。"
   ]
  },
  {
   "cell_type": "code",
   "execution_count": null,
   "metadata": {},
   "outputs": [
    {
     "name": "stdout",
     "output_type": "stream",
     "text": [
      "ChatCompletionMessageToolCall(id='call_0_47c3cbc2-1a7d-444f-9f86-a367822ce9ae', function=Function(arguments='{\"location\":\"Hangzhou\"}', name='get_weather'), type='function', index=0)\n",
      "get_weather\n",
      "{\"location\":\"Hangzhou\"}\n",
      "<class 'str'>\n"
     ]
    }
   ],
   "source": [
    "# for beginners, to understand the data structure\n",
    "print(tool)\n",
    "print(tool.function.name)\n",
    "print(tool.function.arguments)\n",
    "print(type(tool.function.arguments))"
   ]
  },
  {
   "cell_type": "code",
   "execution_count": null,
   "metadata": {},
   "outputs": [
    {
     "data": {
      "text/plain": [
       "'24℃'"
      ]
     },
     "metadata": {},
     "output_type": "display_data"
    }
   ],
   "source": [
    "import json\n",
    "function_name = available_functions[tool.function.name]\n",
    "function_args = json.loads(tool.function.arguments)\n",
    "function_response = function_name(**function_args)  # call the function\n",
    "function_response"
   ]
  },
  {
   "cell_type": "markdown",
   "metadata": {},
   "source": [
    "* 为什么要传 `tool_call_id`： 可能会涉及到多个tool的调用，为了让LLM匹配哪个tool的结果是什么。\n",
    "* 关于role，我们要注意，本地function执行结果使用`role: tool`返回给LLM"
   ]
  },
  {
   "cell_type": "code",
   "execution_count": null,
   "metadata": {},
   "outputs": [
    {
     "name": "stdout",
     "output_type": "stream",
     "text": [
      "Model>\t The current weather in Hangzhou is 24°C. It's a pleasant temperature!\n"
     ]
    }
   ],
   "source": [
    "# append the function response into the messages, which will be sent to the model to let model know the result of the tool\n",
    "messages.append({\"role\": \"tool\", \"tool_call_id\": tool.id,\n",
    "                \"content\": function_response})\n",
    "message = send_messages(messages)\n",
    "print(f\"Model>\\t {message.content}\")\n",
    "messages.append(message)"
   ]
  },
  {
   "cell_type": "code",
   "execution_count": null,
   "metadata": {},
   "outputs": [
    {
     "data": {
      "text/plain": [
       "[{'role': 'user', 'content': \"How's the weather in Hangzhou?\"},\n",
       " ChatCompletionMessage(content='', refusal=None, role='assistant', annotations=None, audio=None, function_call=None, tool_calls=[ChatCompletionMessageToolCall(id='call_0_47c3cbc2-1a7d-444f-9f86-a367822ce9ae', function=Function(arguments='{\"location\":\"Hangzhou\"}', name='get_weather'), type='function', index=0)]),\n",
       " {'role': 'tool',\n",
       "  'tool_call_id': 'call_0_47c3cbc2-1a7d-444f-9f86-a367822ce9ae',\n",
       "  'content': '24℃'},\n",
       " ChatCompletionMessage(content=\"The current weather in Hangzhou is 24°C. It's a pleasant temperature!\", refusal=None, role='assistant', annotations=None, audio=None, function_call=None, tool_calls=None)]"
      ]
     },
     "metadata": {},
     "output_type": "display_data"
    }
   ],
   "source": [
    "messages"
   ]
  },
  {
   "cell_type": "markdown",
   "metadata": {},
   "source": [
    "## parallel usage\n"
   ]
  },
  {
   "cell_type": "markdown",
   "metadata": {},
   "source": [
    "| 模式                      | 行为                                                                 |\n",
    "|---------------------------|----------------------------------------------------------------------|\n",
    "| parallel_tool_calls: true  | 模型可以一次性发出多个工具请求（比如：同时查询天气、翻译一段话、查汇率）。 |\n",
    "| parallel_tool_calls: false | 模型一次只能发出一个请求，用完一个工具后再继续发下一个。               |\n",
    "\n"
   ]
  },
  {
   "cell_type": "markdown",
   "metadata": {},
   "source": [
    "function calling默认可以并行执行(`parallel_tool_calls: True`)，即一个流程中可调用多个函数，或调用同一个函数多次。\n",
    "`parallel_tool_calls: False`时，这次会话只能调用一次函数"
   ]
  },
  {
   "cell_type": "code",
   "execution_count": 1,
   "metadata": {},
   "outputs": [],
   "source": [
    "from dotenv import load_dotenv\n",
    "load_dotenv()\n",
    "\n",
    "\n",
    "def get_weather(location):\n",
    "    if location.lower() == \"hangzhou\":\n",
    "        return \"24℃\"\n",
    "    elif location.lower() == \"shanghai\":\n",
    "        return \"25℃\"\n",
    "    else:\n",
    "        return \"30℃\"\n",
    "\n",
    "\n",
    "available_functions = {\"get_weather\": get_weather}"
   ]
  },
  {
   "cell_type": "code",
   "execution_count": null,
   "metadata": {},
   "outputs": [],
   "source": [
    "from openai import OpenAI\n",
    "\n",
    "\n",
    "def send_messages(messages):\n",
    "    response = client.chat.completions.create(\n",
    "        model=\"gpt-4o-mini\",\n",
    "        messages=messages,\n",
    "        tools=tools,\n",
    "        # parallel_tool_calls = True\n",
    "    )\n",
    "    return response.choices[0].message\n",
    "\n",
    "\n",
    "client = OpenAI()\n",
    "\n",
    "tools = [\n",
    "    {\n",
    "        \"type\": \"function\",\n",
    "        \"function\": {\n",
    "            \"name\": \"get_weather\",\n",
    "            \"description\": \"Get weather of an location, the user shoud supply a location first\",\n",
    "            \"parameters\": {\n",
    "                \"type\": \"object\",\n",
    "                \"properties\": {\n",
    "                    \"location\": {\n",
    "                        \"type\": \"string\",\n",
    "                        \"description\": \"The city and state, e.g. San Francisco\",\n",
    "                    }\n",
    "                },\n",
    "                \"required\": [\"location\"]\n",
    "            },\n",
    "        }\n",
    "    },\n",
    "]"
   ]
  },
  {
   "cell_type": "code",
   "execution_count": 3,
   "metadata": {},
   "outputs": [],
   "source": [
    "messages = [\n",
    "    {\"role\": \"user\", \"content\": \"How's the weather in Hangzhou and Shanghai?\"}]\n",
    "message = send_messages(messages)"
   ]
  },
  {
   "cell_type": "code",
   "execution_count": 4,
   "metadata": {},
   "outputs": [
    {
     "data": {
      "text/plain": [
       "[ChatCompletionMessageToolCall(id='call_G8pfJhiyq9KoNwBQLU0Meezl', function=Function(arguments='{\"location\": \"Hangzhou, China\"}', name='get_weather'), type='function'),\n",
       " ChatCompletionMessageToolCall(id='call_F5pQPh33Oc3ikpyQSki2Rqmj', function=Function(arguments='{\"location\": \"Shanghai, China\"}', name='get_weather'), type='function')]"
      ]
     },
     "execution_count": 4,
     "metadata": {},
     "output_type": "execute_result"
    }
   ],
   "source": [
    "message.tool_calls"
   ]
  },
  {
   "cell_type": "markdown",
   "metadata": {},
   "source": [
    "从上面看出，每个function calling实例都对应有一个tool id，及时调用相同的函数，对应的tool id是不同的。"
   ]
  },
  {
   "cell_type": "markdown",
   "metadata": {},
   "source": [
    "下面演示parallel_tool_calls=False。\n",
    "\n",
    "这个实验失败了，运行效果与true相同。\n",
    "期望的运行效果为，只识别第一个参数，而忽略之后的参数。例如，询问杭州与上海的天气，只识别杭州。TODO\n",
    "\n",
    "[deepsearch](https://chatgpt.com/share/680f4ba0-6654-800c-bd50-5b4ac1009d40)"
   ]
  },
  {
   "cell_type": "code",
   "execution_count": 3,
   "metadata": {},
   "outputs": [],
   "source": [
    "def send_messages(messages):\n",
    "    response = client.chat.completions.create(\n",
    "        model=\"gpt-4o-mini\",\n",
    "        messages=messages,\n",
    "        tools=tools,\n",
    "        parallel_tool_calls=False,\n",
    "    )\n",
    "    return response.choices[0].message\n",
    "\n",
    "\n",
    "messages = [\n",
    "    {\"role\": \"user\", \"content\": \"How's the weather in Hangzhou and Shanghai?\"}]\n",
    "message = send_messages(messages)"
   ]
  },
  {
   "cell_type": "code",
   "execution_count": 4,
   "metadata": {},
   "outputs": [
    {
     "data": {
      "text/plain": [
       "[ChatCompletionMessageToolCall(id='call_75sAs0aOZq0wbDSZVZ05A6eB', function=Function(arguments='{\"location\": \"Hangzhou, China\"}', name='get_weather'), type='function'),\n",
       " ChatCompletionMessageToolCall(id='call_i2W7jymWUZucM6hrNfIMYIvC', function=Function(arguments='{\"location\": \"Shanghai, China\"}', name='get_weather'), type='function')]"
      ]
     },
     "execution_count": 4,
     "metadata": {},
     "output_type": "execute_result"
    }
   ],
   "source": [
    "message.tool_calls"
   ]
  },
  {
   "cell_type": "markdown",
   "metadata": {},
   "source": [
    "### 多函数的调用"
   ]
  },
  {
   "cell_type": "code",
   "execution_count": 31,
   "metadata": {},
   "outputs": [],
   "source": [
    "def get_weather(location):\n",
    "    if location.lower() == \"hangzhou\":\n",
    "        return \"24℃, rain\"\n",
    "    elif location.lower() == \"shanghai\":\n",
    "        return \"25℃, cloudy\"\n",
    "    else:\n",
    "        return \"30℃, sunny\"\n",
    "\n",
    "\n",
    "def get_attractions(location):\n",
    "    \"\"\"\n",
    "    返回指定城市的景点列表（模拟数据）\n",
    "    \"\"\"\n",
    "    attractions_data = {\n",
    "        \"hangzhou\": [\"西湖\", \"灵隐寺\", \"雷峰塔\", \"宋城\"],\n",
    "        \"shanghai\": [\"外滩\", \"东方明珠\", \"迪士尼乐园\", \"南京路步行街\"],\n",
    "    }\n",
    "\n",
    "    # 统一小写，避免大小写问题\n",
    "    city = location.lower()\n",
    "\n",
    "    # 返回对应城市的景点，如果不存在则返回默认景点\n",
    "    return attractions_data.get(city, attractions_data[\"default\"])\n",
    "\n",
    "\n",
    "available_functions = {\"get_weather\": get_weather,\n",
    "                       \"get_attractions\": get_attractions}\n",
    "\n",
    "\n",
    "def send_messages(messages):\n",
    "    response = client.chat.completions.create(\n",
    "        model=\"gpt-4o-mini\",\n",
    "        messages=messages,\n",
    "        tools=tools,\n",
    "        # parallel_tool_calls = True\n",
    "    )\n",
    "    return response.choices[0].message\n",
    "\n",
    "\n",
    "client = OpenAI()\n",
    "\n",
    "tools = [\n",
    "    {\n",
    "        \"type\": \"function\",\n",
    "        \"function\": {\n",
    "            \"name\": \"get_weather\",\n",
    "            \"description\": \"Get weather of an location, the user shoud supply a location first\",\n",
    "            \"parameters\": {\n",
    "                \"type\": \"object\",\n",
    "                \"properties\": {\n",
    "                    \"location\": {\n",
    "                        \"type\": \"string\",\n",
    "                        \"description\": \"The city and state, e.g. San Francisco, CA\",\n",
    "                    }\n",
    "                },\n",
    "                \"required\": [\"location\"]\n",
    "            },\n",
    "        }\n",
    "    },\n",
    "    {\n",
    "        \"type\": \"function\",\n",
    "        \"function\": {\n",
    "            \"name\": \"get_attractions\",\n",
    "            \"description\": \"Get popular attractions of a specified city\",\n",
    "            \"parameters\": {\n",
    "                \"type\": \"object\",\n",
    "                \"properties\": {\n",
    "                    \"location\": {\n",
    "                        \"type\": \"string\",\n",
    "                        \"description\": \"The city name, e.g. Hangzhou, Shanghai\"\n",
    "                    }\n",
    "                },\n",
    "                \"required\": [\"location\"]\n",
    "            }\n",
    "        }\n",
    "    }\n",
    "]\n",
    "messages = [\n",
    "    {\"role\": \"user\", \"content\": \"How's the weather in Hangzhou and Shanghai? please recommend attractions in these cities.​\"}]\n",
    "message = send_messages(messages)"
   ]
  },
  {
   "cell_type": "code",
   "execution_count": 32,
   "metadata": {},
   "outputs": [
    {
     "data": {
      "text/plain": [
       "[ChatCompletionMessageToolCall(id='call_9JzvzHTo9wacKnuJKCSBRQfM', function=Function(arguments='{\"location\": \"Hangzhou, China\"}', name='get_weather'), type='function'),\n",
       " ChatCompletionMessageToolCall(id='call_eGPDT0bmWLuoM3wrjLGCv2dr', function=Function(arguments='{\"location\": \"Shanghai, China\"}', name='get_weather'), type='function'),\n",
       " ChatCompletionMessageToolCall(id='call_fxe2H30ruYUGt7mOCAR2AlyQ', function=Function(arguments='{\"location\": \"Hangzhou\"}', name='get_attractions'), type='function'),\n",
       " ChatCompletionMessageToolCall(id='call_qH5HzB5OjUp5DZgWjvT9dufh', function=Function(arguments='{\"location\": \"Shanghai\"}', name='get_attractions'), type='function')]"
      ]
     },
     "execution_count": 32,
     "metadata": {},
     "output_type": "execute_result"
    }
   ],
   "source": [
    "message.tool_calls"
   ]
  },
  {
   "cell_type": "markdown",
   "metadata": {},
   "source": [
    "> 之前用的提示词：How's the weather in Hangzhou and Shanghai? please recommend attractions in cities without rain.\n",
    "无论parallel_tool_calls设置True还是False，只调用了get_weath2次，我意识到错了，后面的调用取决于前面调用的结果，有依赖关系。\n",
    "修改之后，2个tool的调用没有依赖关系。"
   ]
  },
  {
   "cell_type": "code",
   "execution_count": 21,
   "metadata": {},
   "outputs": [
    {
     "data": {
      "text/plain": [
       "[ChatCompletionMessageToolCall(id='call_Bk5yvkCE9KKdl1skNBpf00SS', function=Function(arguments='{\"location\": \"Hangzhou, China\"}', name='get_weather'), type='function'),\n",
       " ChatCompletionMessageToolCall(id='call_EfXejJhyV2XAvXjysxghKNaC', function=Function(arguments='{\"location\": \"Shanghai, China\"}', name='get_weather'), type='function'),\n",
       " ChatCompletionMessageToolCall(id='call_Fekn757do3rkiJw2TQBtiogc', function=Function(arguments='{\"location\": \"Hangzhou\"}', name='get_attractions'), type='function'),\n",
       " ChatCompletionMessageToolCall(id='call_JgZ8laOzKuPa082FEzGDTOGL', function=Function(arguments='{\"location\": \"Shanghai\"}', name='get_attractions'), type='function')]"
      ]
     },
     "execution_count": 21,
     "metadata": {},
     "output_type": "execute_result"
    }
   ],
   "source": [
    "def send_messages(messages):\n",
    "    response = client.chat.completions.create(\n",
    "        model=\"gpt-4o-mini\",\n",
    "        messages=messages,\n",
    "        tools=tools,\n",
    "        parallel_tool_calls = False\n",
    "    )\n",
    "    return response.choices[0].message\n",
    "messages = [\n",
    "    {\"role\": \"user\", \"content\": \"How's the weather in Hangzhou and Shanghai? please recommend attractions in these cities.​\"}]\n",
    "message = send_messages(messages)\n",
    "message.tool_calls"
   ]
  }
 ],
 "metadata": {
  "kernelspec": {
   "display_name": "openAI",
   "language": "python",
   "name": "python3"
  },
  "language_info": {
   "codemirror_mode": {
    "name": "ipython",
    "version": 3
   },
   "file_extension": ".py",
   "mimetype": "text/x-python",
   "name": "python",
   "nbconvert_exporter": "python",
   "pygments_lexer": "ipython3",
   "version": "3.12.9"
  }
 },
 "nbformat": 4,
 "nbformat_minor": 2
}
