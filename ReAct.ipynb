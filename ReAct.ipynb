{
 "cells": [
  {
   "cell_type": "markdown",
   "metadata": {},
   "source": [
    "# ReAct\n",
    "\n",
    "在function_calling应用场景中，如果用户在单次请求中包含多个意图时，e.g. `你喜欢旅游吗？上海有什么景点？`。这种复杂场景中，单纯依靠原始的提示词，LLM无法完美实现function_calling的调用(通过分析问题决定when&how调用tools)。\n",
    "\n",
    "AI agent能自主感知、做出决策并执行行动的复合体。把AI Agent想象为一个能够独立思考和行动的人。\n",
    "\n",
    "论文[《ReAct：Synergizing Reasoning and Acting in Language Models》](https://arxiv.org/pdf/2210.03629)，是一个prompt框架。示例："
   ]
  },
  {
   "cell_type": "code",
   "execution_count": null,
   "metadata": {},
   "outputs": [],
   "source": [
    "prompt = \"\"\"\n",
    "\n",
    "You run in a loop of Thought, Action, Observation, Answer.\n",
    "At the end of the loop you output an Answer\n",
    "Use Thought to describe your thoughts about the question you have been asked.\n",
    "Use Action to run one of the actions available to you.\n",
    "Observation will be the result of running those actions.\n",
    "Answer will be the result of analysing the Observation\n",
    "\n",
    "Your available actions are:\n",
    "\n",
    "xiaohongshu:\n",
    "e.g. xiaohongshu: Beijing travel tips\n",
    "Runs a search through the Xiaohongshu API and returns travel tips and recommendations for Beijing.\n",
    "\n",
    "ctrip:\n",
    "e.g. ctrip: flights to Beijing\n",
    "Runs a search through the Ctrip API to find available flights to Beijing.\n",
    "\n",
    "Always use the Xiaohongshu and Ctrip APIs if you have the opportunity to do so.\n",
    "\n",
    "Example session:\n",
    "\n",
    "Question: I'm planning a trip to Beijing, what should I do first?\n",
    "\n",
    "Thought: I should find out about the attractions and tips for visiting Beijing on Xiaohongshu.\n",
    "\n",
    "Action: xiaohongshu: Beijing travel tips\n",
    "\n",
    "Observation: The search returns a list of popular travel tips and must-visit attractions in Beijing.\n",
    "\n",
    "Answer: Start by researching Beijing's must-visit attractions and travel tips on Xiaohongshu. Then, look for available flights on Ctrip and consider accommodation options.\n",
    "\n",
    "....\n",
    "\n",
    "\"\"\""
   ]
  },
  {
   "cell_type": "markdown",
   "metadata": {},
   "source": [
    "1. prompt定义了 `thought - action - observation - answer`的loop\n",
    "2. 定义tools及用法\n",
    "3. loop的演示 #one-shot"
   ]
  },
  {
   "cell_type": "markdown",
   "metadata": {},
   "source": [
    "instead of 单一的任务描述，这样一个更复杂的prompt，定义了agent的具体职责、完成这个任务所需采取的操作，以及这些操作所具备的能力。\n",
    "TODO: reference [ReAct github](https://react-lm.github.io/)的prompt"
   ]
  },
  {
   "cell_type": "markdown",
   "metadata": {},
   "source": [
    "ReAct = Reason + Act\n",
    "* Reason, 基于思维链(CoT, chain of thought)，将输入分解为多个逻辑思维步骤：\n",
    "    * 分解问题，面对复杂任务时，CoT方法不是通过单个步骤解决它，而是将任务分解为多个子任务，每个子任务解决一个小问题。\n",
    "    * 顺序，CoT的每个步骤都建立在上一步的结果之上，这样模型能构造出一条完整的逻辑推理链。"
   ]
  },
  {
   "cell_type": "markdown",
   "metadata": {},
   "source": [
    "![CoT](./imgs/CoT.png)"
   ]
  },
  {
   "cell_type": "markdown",
   "metadata": {},
   "source": [
    "上图可以看出，将推理过程告知LLM，能够获得正确答案。\n",
    "但是，LLM仍然会产生幻觉。在推理的中间阶段会产生不正确的答案，获上下游传播错误数据。\n",
    "so, DeepMind团队研发了ReAct，弥补CoT的缺点。ReAct采用 thought-action-observation 的loop，agent通过观察上一个步骤的结果来进行推理和行动。\n",
    "![ReAct](./imgs/ReAct.png)\n",
    "\n",
    "其中,`action_input`是LLM与外部环境的实时交互，e.g. 搜索引擎、调用api.\n",
    "另一个ReAct框架的prompt示例："
   ]
  },
  {
   "cell_type": "code",
   "execution_count": null,
   "metadata": {},
   "outputs": [],
   "source": [
    "prompt = \"\"\"\n",
    "You run in a loop of Thought, Action, Observation, Answer.\n",
    "At the end of the loop you output an Answer\n",
    "Use Thought to describe your thoughts about the question you have been asked.\n",
    "Use Action to run one of the actions available to you.\n",
    "Observation will be the result of running those actions.\n",
    "Answer will be the result of analysing the Observation\n",
    "\n",
    "Your available actions are:\n",
    "\n",
    "calculate:\n",
    "e.g. calculate: 4 * 7 / 3\n",
    "Runs a calculation and returns the number - uses Python so be sure to use floating point syntax if necessary\n",
    "\n",
    "wikipedia:\n",
    "e.g. wikipedia: Django\n",
    "Returns a summary from searching Wikipedia\n",
    "\n",
    "Always look things up on Wikipedia if you have the opportunity to do so.\n",
    "\n",
    "Example session:\n",
    "\n",
    "Question: What is the capital of France?\n",
    "\n",
    "Thought: I should look up France on Wikipedia\n",
    "\n",
    "Action: wikipedia: France\n",
    "\n",
    "You should then call the appropriate action and determine the answer from \n",
    "the result\n",
    "\n",
    "You then output:\n",
    "\n",
    "Answer: The capital of France is Paris\n",
    "\"\"\""
   ]
  },
  {
   "cell_type": "markdown",
   "metadata": {},
   "source": [
    "## 代码演示\n",
    "来自某机构课程"
   ]
  },
  {
   "cell_type": "code",
   "execution_count": 1,
   "metadata": {},
   "outputs": [
    {
     "data": {
      "text/plain": [
       "True"
      ]
     },
     "execution_count": 1,
     "metadata": {},
     "output_type": "execute_result"
    }
   ],
   "source": [
    "from dotenv import load_dotenv\n",
    "load_dotenv()"
   ]
  },
  {
   "cell_type": "code",
   "execution_count": 3,
   "metadata": {},
   "outputs": [],
   "source": [
    "system_prompt = \"\"\"\n",
    "You run in a loop of Thought, Action, Observation, Answer.\n",
    "At the end of the loop you output an Answer\n",
    "Use Thought to describe your thoughts about the question you have been asked.\n",
    "Use Action to run one of the actions available to you.\n",
    "Observation will be the result of running those actions.\n",
    "Answer will be the result of analysing the Observation\n",
    "\n",
    "Your available actions are:\n",
    "\n",
    "calculate:\n",
    "e.g. calculate: 4 * 7 / 3\n",
    "Runs a calculation and returns the number - uses Python so be sure to use floating point syntax if necessary\n",
    "\n",
    "fetch_real_time_info:\n",
    "e.g. fetch_real_time_info: Django\n",
    "Returns a real info from searching SerperAPI\n",
    "\n",
    "Always look things up on fetch_real_time_info if you have the opportunity to do so.\n",
    "\n",
    "Example session:\n",
    "\n",
    "Question: What is the capital of China?\n",
    "Thought: I should look up on SerperAPI\n",
    "Action: fetch_real_time_info: What is the capital of China?\n",
    "PAUSE \n",
    "\n",
    "You will be called again with this:\n",
    "\n",
    "Observation: China is a country. The capital is Beijing.\n",
    "Thought: I think I have found the answer\n",
    "Action: Beijing.\n",
    "You should then call the appropriate action and determine the answer from the result\n",
    "\n",
    "You then output:\n",
    "\n",
    "Answer: The capital of China is Beijing\n",
    "\n",
    "Example session\n",
    "\n",
    "Question: What is the mass of Earth times 2?\n",
    "Thought: I need to find the mass of Earth on fetch_real_time_info\n",
    "Action: fetch_real_time_info : mass of earth\n",
    "PAUSE\n",
    "\n",
    "You will be called again with this: \n",
    "\n",
    "Observation: mass of earth is 1,1944×10e25\n",
    "\n",
    "Thought: I need to multiply this by 2\n",
    "Action: calculate: 5.972e24 * 2\n",
    "PAUSE\n",
    "\n",
    "You will be called again with this: \n",
    "\n",
    "Observation: 1,1944×10e25\n",
    "\n",
    "If you have the answer, output it as the Answer.\n",
    "\n",
    "Answer: The mass of Earth times 2 is 1,1944×10e25.\n",
    "\n",
    "Now it's your turn:\n",
    "\"\"\".strip()"
   ]
  },
  {
   "cell_type": "markdown",
   "metadata": {},
   "source": [
    "1. prompt定义了 `thought - action - observation - answer`的loop\n",
    "2. 声明了2个tools及用法，calculate、fetch_real_time_info\n",
    "3. loop的演示 #few-shot"
   ]
  },
  {
   "cell_type": "code",
   "execution_count": 18,
   "metadata": {},
   "outputs": [],
   "source": [
    "import requests\n",
    "import os\n",
    "\n",
    "def fetch_real_time_info(query):\n",
    "    # API参数\n",
    "    params = {\n",
    "        'api_key': os.getenv('SERP_API_KEY'), \n",
    "        'engine' : \"google\",\n",
    "        'q': query,    # 查询参数，表示要搜索的问题。\n",
    "        'num': 1       # 返回结果的数量设为1，API将返回一个相关的搜索结果。\n",
    "    }\n",
    "\n",
    "    # 发起GET请求到Serper API\n",
    "    api_result = requests.get('https://serpapi.com/search', params)\n",
    "    \n",
    "    # 解析返回的JSON数据\n",
    "    search_data = api_result.json()\n",
    "    # print(f'search_data: {search_data}')\n",
    "    # 提取并返回查询到的信息\n",
    "    if 'organic_results' in search_data:\n",
    "        return search_data[\"organic_results\"][0][\"snippet\"]\n",
    "    else:\n",
    "        return \"没有找到相关结果。\""
   ]
  },
  {
   "cell_type": "code",
   "execution_count": 19,
   "metadata": {},
   "outputs": [
    {
     "name": "stdout",
     "output_type": "stream",
     "text": [
      "1. 尼罗河（Nile）. 6670 ; 2. 亚马逊河（Amazon）. 6400 ; 3. 长江（Chang Jiang）. 6397 ; 4. 密西西比河（Mississippi）. 6020 ; 5. 叶尼塞河（Yenisey）. 5539.\n"
     ]
    }
   ],
   "source": [
    "# 测试代码\n",
    "query = \"世界上最长的河流是哪条河流？\"\n",
    "result = fetch_real_time_info(query)\n",
    "print(result)"
   ]
  },
  {
   "cell_type": "code",
   "execution_count": 20,
   "metadata": {},
   "outputs": [],
   "source": [
    "# 函数 `calculate` 接收一个字符串参数 operation，该字符串代表一个数学运算表达式，\n",
    "# 并使用 Python 的内置函数 eval 来执行这个表达式，然后返回运算的结果。\n",
    "# 函数的返回类型被指定为 float，意味着期望返回值为浮点数。\n",
    "def calculate(operation: str) -> float:\n",
    "    return eval(operation)"
   ]
  },
  {
   "cell_type": "code",
   "execution_count": 21,
   "metadata": {},
   "outputs": [
    {
     "name": "stdout",
     "output_type": "stream",
     "text": [
      "20.0\n"
     ]
    }
   ],
   "source": [
    "# 测试代码\n",
    "result = calculate(\"100 / 5\")\n",
    "print(result)  # 输出结果应该是 20.0"
   ]
  },
  {
   "cell_type": "code",
   "execution_count": 22,
   "metadata": {},
   "outputs": [],
   "source": [
    "# 存储函数的字典\n",
    "available_actions = {\n",
    "    \"fetch_real_time_info\": fetch_real_time_info,\n",
    "    \"calculate\": calculate,\n",
    "}"
   ]
  },
  {
   "cell_type": "code",
   "execution_count": 31,
   "metadata": {},
   "outputs": [],
   "source": [
    "from openai import OpenAI\n",
    "\n",
    "class ChatBot:\n",
    "    def __init__(self, system=\"\"):\n",
    "        self.client = OpenAI()\n",
    "        self.system = system\n",
    "        self.messages = []\n",
    "        if self.system:\n",
    "            self.messages.append({\"role\": \"system\", \"content\": system})\n",
    "    \n",
    "    def __call__(self, message):\n",
    "        self.messages.append({\"role\": \"user\", \"content\": message})\n",
    "        result = self.execute()\n",
    "        self.messages.append({\"role\": \"assistant\", \"content\": result})\n",
    "        return result\n",
    "    \n",
    "    def execute(self):\n",
    "        completion = self.client.chat.completions.create(model=\"gpt-4o-mini\", messages=self.messages)\n",
    "        return completion.choices[0].message.content"
   ]
  },
  {
   "cell_type": "markdown",
   "metadata": {},
   "source": [
    "代码解释：\n",
    "#使用示例演示\n",
    "```\n",
    "bot = ChatBot(system=\"你是一个有帮助的助手\")  # 初始化，可设置系统角色 调用--> __init__\n",
    "\n",
    "response = bot(\"你好\")  # 发送用户消息并获取回复 调用--> __call__\n",
    "```"
   ]
  },
  {
   "cell_type": "markdown",
   "metadata": {},
   "source": [
    "捕获action调用时机。\n",
    "大模型识别到用户的意图中需要调用工具，那么其停留的阶段一定是在 Action：xxxx : xxxx 阶段，其中第一个 xxx，就是调用的函数名称，第二个 xxxx，就是调用第一个 xxxx 函数时，需要传递的参数。这里就可以通过正则表达式来进行捕捉。如下所示："
   ]
  },
  {
   "cell_type": "code",
   "execution_count": null,
   "metadata": {},
   "outputs": [],
   "source": [
    "import re\n",
    "# (\\w+) 是一个捕获组，匹配一个或多个字母数字字符（包括下划线）。这部分用于捕获命令中指定的动作名称\n",
    "# (.*) 是另一个捕获组，它匹配冒号之后的任意字符，直到字符串结束。这部分用于捕获命令的参数。\n",
    "# r means raw string, 意思是将\\w直接传递给re.compile，而不会被python转义。\n",
    "action_re = re.compile(r'^Action: (\\w+): (.*)$')"
   ]
  },
  {
   "cell_type": "code",
   "execution_count": 28,
   "metadata": {},
   "outputs": [
    {
     "name": "stdout",
     "output_type": "stream",
     "text": [
      "fetch_real_time_info\n",
      "mass of earth\n"
     ]
    }
   ],
   "source": [
    "# 测试代码\n",
    "match = action_re.match(\"Action: fetch_real_time_info: mass of earth\")\n",
    "if match:\n",
    "    print(match.group(1))  # 'fetch_real_time_info'\n",
    "    print(match.group(2))  # 'mass of earth'"
   ]
  },
  {
   "cell_type": "code",
   "execution_count": 34,
   "metadata": {},
   "outputs": [],
   "source": [
    "def AgentExecutor(question, max_turns=5):\n",
    "    i = 0\n",
    "    bot = ChatBot(system_prompt)\n",
    "    # 通过 next_prompt 标识每一个子任务的阶段性输入\n",
    "    next_prompt = question\n",
    "    while i < max_turns:\n",
    "        i += 1\n",
    "        # 这里调用的就是 ChatBot 类的 __call__ 方法\n",
    "        result = bot(next_prompt)\n",
    "        print(f\"{result}\")\n",
    "        # 在这里通过正则判断是否到了需要调用函数的Action阶段\n",
    "        actions = [action_re.match(a) for a in result.split('\\n') if action_re.match(a)]\n",
    "        if actions:\n",
    "            # 提取调用的工具名和工具所需的入参\n",
    "            action, action_input = actions[0].groups()\n",
    "            if action not in available_actions:\n",
    "                raise Exception(\"Unknown action: {}: {}\".format(action, action_input))\n",
    "            print(f\"running: {action} {action_input}\")\n",
    "            observation = available_actions[action](action_input)\n",
    "            print(f\"Observation: {observation}\")\n",
    "            next_prompt = \"Observation: {}\".format(observation)\n",
    "        else:\n",
    "            return bot.messages"
   ]
  },
  {
   "cell_type": "code",
   "execution_count": 35,
   "metadata": {},
   "outputs": [
    {
     "name": "stdout",
     "output_type": "stream",
     "text": [
      "Thought: 我应该在SerperAPI上查找世界上最长的河流的最新信息。  \n",
      "Action: fetch_real_time_info: 世界上最长的河流是什么。  \n",
      "PAUSE\n",
      "running: fetch_real_time_info 世界上最长的河流是什么。  \n",
      "Observation: 一、尼罗河. 尼罗河 ; 6650公里(4132英里)。其水资源共享的11个国家,即坦桑尼亚、乌干达、卢旺达、布隆迪、刚果民主共和国、肯尼亚、埃塞俄比亚、厄立特里亚、南苏丹、苏丹 ...\n",
      "Thought: 我找到了答案，尼罗河被认为是世界上最长的河流，长度为6650公里。  \n",
      "Action: 输出答案。  \n",
      "Answer: 世界上最长的河流是尼罗河，长度为6650公里。\n"
     ]
    },
    {
     "data": {
      "text/plain": [
       "[{'role': 'system',\n",
       "  'content': \"You run in a loop of Thought, Action, Observation, Answer.\\nAt the end of the loop you output an Answer\\nUse Thought to describe your thoughts about the question you have been asked.\\nUse Action to run one of the actions available to you.\\nObservation will be the result of running those actions.\\nAnswer will be the result of analysing the Observation\\n\\nYour available actions are:\\n\\ncalculate:\\ne.g. calculate: 4 * 7 / 3\\nRuns a calculation and returns the number - uses Python so be sure to use floating point syntax if necessary\\n\\nfetch_real_time_info:\\ne.g. fetch_real_time_info: Django\\nReturns a real info from searching SerperAPI\\n\\nAlways look things up on fetch_real_time_info if you have the opportunity to do so.\\n\\nExample session:\\n\\nQuestion: What is the capital of China?\\nThought: I should look up on SerperAPI\\nAction: fetch_real_time_info: What is the capital of China?\\nPAUSE \\n\\nYou will be called again with this:\\n\\nObservation: China is a country. The capital is Beijing.\\nThought: I think I have found the answer\\nAction: Beijing.\\nYou should then call the appropriate action and determine the answer from the result\\n\\nYou then output:\\n\\nAnswer: The capital of China is Beijing\\n\\nExample session\\n\\nQuestion: What is the mass of Earth times 2?\\nThought: I need to find the mass of Earth on fetch_real_time_info\\nAction: fetch_real_time_info : mass of earth\\nPAUSE\\n\\nYou will be called again with this: \\n\\nObservation: mass of earth is 1,1944×10e25\\n\\nThought: I need to multiply this by 2\\nAction: calculate: 5.972e24 * 2\\nPAUSE\\n\\nYou will be called again with this: \\n\\nObservation: 1,1944×10e25\\n\\nIf you have the answer, output it as the Answer.\\n\\nAnswer: The mass of Earth times 2 is 1,1944×10e25.\\n\\nNow it's your turn:\"},\n",
       " {'role': 'user', 'content': '世界上最长的河流是什么？'},\n",
       " {'role': 'assistant',\n",
       "  'content': 'Thought: 我应该在SerperAPI上查找世界上最长的河流的最新信息。  \\nAction: fetch_real_time_info: 世界上最长的河流是什么。  \\nPAUSE'},\n",
       " {'role': 'user',\n",
       "  'content': 'Observation: 一、尼罗河. 尼罗河 ; 6650公里(4132英里)。其水资源共享的11个国家,即坦桑尼亚、乌干达、卢旺达、布隆迪、刚果民主共和国、肯尼亚、埃塞俄比亚、厄立特里亚、南苏丹、苏丹 ...'},\n",
       " {'role': 'assistant',\n",
       "  'content': 'Thought: 我找到了答案，尼罗河被认为是世界上最长的河流，长度为6650公里。  \\nAction: 输出答案。  \\nAnswer: 世界上最长的河流是尼罗河，长度为6650公里。'}]"
      ]
     },
     "execution_count": 35,
     "metadata": {},
     "output_type": "execute_result"
    }
   ],
   "source": [
    "AgentExecutor(\"世界上最长的河流是什么？\")"
   ]
  },
  {
   "cell_type": "code",
   "execution_count": 36,
   "metadata": {},
   "outputs": [
    {
     "name": "stdout",
     "output_type": "stream",
     "text": [
      "Thought: I need to perform a multiplication calculation to find the result of 20 times 15. \n",
      "Action: calculate: 20 * 15 \n",
      "PAUSE\n",
      "running: calculate 20 * 15 \n",
      "Observation: 300\n",
      "Thought: I have the result of the calculation, which is 300. \n",
      "Action: 300 \n",
      "PAUSE\n"
     ]
    },
    {
     "data": {
      "text/plain": [
       "[{'role': 'system',\n",
       "  'content': \"You run in a loop of Thought, Action, Observation, Answer.\\nAt the end of the loop you output an Answer\\nUse Thought to describe your thoughts about the question you have been asked.\\nUse Action to run one of the actions available to you.\\nObservation will be the result of running those actions.\\nAnswer will be the result of analysing the Observation\\n\\nYour available actions are:\\n\\ncalculate:\\ne.g. calculate: 4 * 7 / 3\\nRuns a calculation and returns the number - uses Python so be sure to use floating point syntax if necessary\\n\\nfetch_real_time_info:\\ne.g. fetch_real_time_info: Django\\nReturns a real info from searching SerperAPI\\n\\nAlways look things up on fetch_real_time_info if you have the opportunity to do so.\\n\\nExample session:\\n\\nQuestion: What is the capital of China?\\nThought: I should look up on SerperAPI\\nAction: fetch_real_time_info: What is the capital of China?\\nPAUSE \\n\\nYou will be called again with this:\\n\\nObservation: China is a country. The capital is Beijing.\\nThought: I think I have found the answer\\nAction: Beijing.\\nYou should then call the appropriate action and determine the answer from the result\\n\\nYou then output:\\n\\nAnswer: The capital of China is Beijing\\n\\nExample session\\n\\nQuestion: What is the mass of Earth times 2?\\nThought: I need to find the mass of Earth on fetch_real_time_info\\nAction: fetch_real_time_info : mass of earth\\nPAUSE\\n\\nYou will be called again with this: \\n\\nObservation: mass of earth is 1,1944×10e25\\n\\nThought: I need to multiply this by 2\\nAction: calculate: 5.972e24 * 2\\nPAUSE\\n\\nYou will be called again with this: \\n\\nObservation: 1,1944×10e25\\n\\nIf you have the answer, output it as the Answer.\\n\\nAnswer: The mass of Earth times 2 is 1,1944×10e25.\\n\\nNow it's your turn:\"},\n",
       " {'role': 'user', 'content': '20 * 15 等于多少'},\n",
       " {'role': 'assistant',\n",
       "  'content': 'Thought: I need to perform a multiplication calculation to find the result of 20 times 15. \\nAction: calculate: 20 * 15 \\nPAUSE'},\n",
       " {'role': 'user', 'content': 'Observation: 300'},\n",
       " {'role': 'assistant',\n",
       "  'content': 'Thought: I have the result of the calculation, which is 300. \\nAction: 300 \\nPAUSE'}]"
      ]
     },
     "execution_count": 36,
     "metadata": {},
     "output_type": "execute_result"
    }
   ],
   "source": [
    "AgentExecutor(\"20 * 15 等于多少\")"
   ]
  },
  {
   "cell_type": "code",
   "execution_count": 38,
   "metadata": {},
   "outputs": [
    {
     "name": "stdout",
     "output_type": "stream",
     "text": [
      "Thought: 我需要查找世界上最长的河流以及中国最长的河流的信息，才能计算它们之间的差值。 \n",
      "Action: fetch_real_time_info: 世界上最长的河流和中国最长的河流分别是哪些？ \n",
      "PAUSE\n",
      "running: fetch_real_time_info 世界上最长的河流和中国最长的河流分别是哪些？ \n",
      "Observation: 1, 尼罗河－卡盖拉河, 6650 ; 2, 亚马逊河－乌卡亚利河－阿普里马克河, 6448 ; 3, 长江－通天河－沱沱河, 6380 ; 4, 密西西比河－密苏里河－红岩河（英语：Red Rock River (Montana)） ...\n",
      "Thought: 我发现尼罗河是世界上最长的河流，长度为6650公里，而长江是中国最长的河流，长度为6380公里。接下来我需要计算这两条河流之间的差值。 \n",
      "Action: calculate: 6650 - 6380 \n",
      "PAUSE\n",
      "running: calculate 6650 - 6380 \n",
      "Observation: 270\n",
      "Thought: 差值计算得出270公里，这是尼罗河与长江之间的长度差。 \n",
      "Action: 270\n",
      "Answer: 世界上最长的河流与中国最长的河流之间的差值是270公里。\n"
     ]
    },
    {
     "data": {
      "text/plain": [
       "[{'role': 'system',\n",
       "  'content': \"You run in a loop of Thought, Action, Observation, Answer.\\nAt the end of the loop you output an Answer\\nUse Thought to describe your thoughts about the question you have been asked.\\nUse Action to run one of the actions available to you.\\nObservation will be the result of running those actions.\\nAnswer will be the result of analysing the Observation\\n\\nYour available actions are:\\n\\ncalculate:\\ne.g. calculate: 4 * 7 / 3\\nRuns a calculation and returns the number - uses Python so be sure to use floating point syntax if necessary\\n\\nfetch_real_time_info:\\ne.g. fetch_real_time_info: Django\\nReturns a real info from searching SerperAPI\\n\\nAlways look things up on fetch_real_time_info if you have the opportunity to do so.\\n\\nExample session:\\n\\nQuestion: What is the capital of China?\\nThought: I should look up on SerperAPI\\nAction: fetch_real_time_info: What is the capital of China?\\nPAUSE \\n\\nYou will be called again with this:\\n\\nObservation: China is a country. The capital is Beijing.\\nThought: I think I have found the answer\\nAction: Beijing.\\nYou should then call the appropriate action and determine the answer from the result\\n\\nYou then output:\\n\\nAnswer: The capital of China is Beijing\\n\\nExample session\\n\\nQuestion: What is the mass of Earth times 2?\\nThought: I need to find the mass of Earth on fetch_real_time_info\\nAction: fetch_real_time_info : mass of earth\\nPAUSE\\n\\nYou will be called again with this: \\n\\nObservation: mass of earth is 1,1944×10e25\\n\\nThought: I need to multiply this by 2\\nAction: calculate: 5.972e24 * 2\\nPAUSE\\n\\nYou will be called again with this: \\n\\nObservation: 1,1944×10e25\\n\\nIf you have the answer, output it as the Answer.\\n\\nAnswer: The mass of Earth times 2 is 1,1944×10e25.\\n\\nNow it's your turn:\"},\n",
       " {'role': 'user', 'content': '世界上最长的河流，与中国最长的河流，它们之间的差值是多少？'},\n",
       " {'role': 'assistant',\n",
       "  'content': 'Thought: 我需要查找世界上最长的河流以及中国最长的河流的信息，才能计算它们之间的差值。 \\nAction: fetch_real_time_info: 世界上最长的河流和中国最长的河流分别是哪些？ \\nPAUSE'},\n",
       " {'role': 'user',\n",
       "  'content': 'Observation: 1, 尼罗河－卡盖拉河, 6650 ; 2, 亚马逊河－乌卡亚利河－阿普里马克河, 6448 ; 3, 长江－通天河－沱沱河, 6380 ; 4, 密西西比河－密苏里河－红岩河（英语：Red Rock River (Montana)） ...'},\n",
       " {'role': 'assistant',\n",
       "  'content': 'Thought: 我发现尼罗河是世界上最长的河流，长度为6650公里，而长江是中国最长的河流，长度为6380公里。接下来我需要计算这两条河流之间的差值。 \\nAction: calculate: 6650 - 6380 \\nPAUSE'},\n",
       " {'role': 'user', 'content': 'Observation: 270'},\n",
       " {'role': 'assistant',\n",
       "  'content': 'Thought: 差值计算得出270公里，这是尼罗河与长江之间的长度差。 \\nAction: 270\\nAnswer: 世界上最长的河流与中国最长的河流之间的差值是270公里。'}]"
      ]
     },
     "execution_count": 38,
     "metadata": {},
     "output_type": "execute_result"
    }
   ],
   "source": [
    "AgentExecutor(\"世界上最长的河流，与中国最长的河流，它们之间的差值是多少？\")"
   ]
  },
  {
   "cell_type": "markdown",
   "metadata": {},
   "source": [
    "## 流行框架\n",
    "\n",
    "Langchain、LlamaIndex、CrewAI中集成了ReAct思想。\n",
    "\n",
    "Langchain中的示例："
   ]
  },
  {
   "cell_type": "markdown",
   "metadata": {},
   "source": [
    "Answer the following questions as best you can. You have access \n",
    "to the following tools:\n",
    "\n",
    "{tools}\n",
    "\n",
    "Use the following format:\n",
    "\n",
    "Question: the input question you must answer\n",
    "Thought: you should always think about what to do\n",
    "Action: the action to take, should be one of [{tool_names}]\n",
    "Action Input: the input to the action\n",
    "Observation: the result of the action\n",
    "... (this Thought/Action/Action Input/Observation can repeat N times)\n",
    "Thought: I now know the final answer\n",
    "Final Answer: the final answer to the original input question\n",
    "\n",
    "Begin!\n",
    "\n",
    "Question: {input}\n",
    "Thought:{agent_scratchpad}\n",
    "\n",
    "There are three placeholders {tool}, {input}, and {agent_scratchpad} in this prompt. These will be replaced with the appropriate text before sending it to LLM."
   ]
  }
 ],
 "metadata": {
  "kernelspec": {
   "display_name": "openAI",
   "language": "python",
   "name": "python3"
  },
  "language_info": {
   "codemirror_mode": {
    "name": "ipython",
    "version": 3
   },
   "file_extension": ".py",
   "mimetype": "text/x-python",
   "name": "python",
   "nbconvert_exporter": "python",
   "pygments_lexer": "ipython3",
   "version": "3.12.9"
  }
 },
 "nbformat": 4,
 "nbformat_minor": 2
}
